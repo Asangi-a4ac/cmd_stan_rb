{
 "cells": [
  {
   "cell_type": "code",
   "execution_count": 2,
   "metadata": {},
   "outputs": [
    {
     "data": {
      "text/plain": [
       "\"0.1.0\""
      ]
     },
     "execution_count": 2,
     "metadata": {},
     "output_type": "execute_result"
    }
   ],
   "source": [
    "require \"ruby_stan\"\n",
    "RubyStan::VERSION"
   ]
  },
  {
   "cell_type": "code",
   "execution_count": 6,
   "metadata": {},
   "outputs": [
    {
     "name": "stdout",
     "output_type": "stream",
     "text": [
      "\n",
      "          data {\n",
      "            int<lower=0> N;\n",
      "            int<lower=0,upper=1> y[N];\n",
      "          }\n",
      "\n",
      "          parameters {\n",
      "            real<lower=0,upper=1> theta;\n",
      "          }\n",
      "\n",
      "          model {\n",
      "            theta ~ beta(1,1);  // uniform prior on interval 0,1\n",
      "            y ~ bernoulli(theta);\n",
      "          }\n",
      "        \n"
     ]
    }
   ],
   "source": [
    "puts RubyStan::Examples.bernoulli"
   ]
  },
  {
   "cell_type": "markdown",
   "metadata": {},
   "source": [
    "# Given some data and our prior knowledge. What is the value of theta?"
   ]
  },
  {
   "cell_type": "code",
   "execution_count": 7,
   "metadata": {},
   "outputs": [
    {
     "data": {
      "text/plain": [
       "#<RubyStan::Model:0x00007f81aaa9f050 @name=\"research-42\", @model_string=\"\\n          data {\\n            int<lower=0> N;\\n            int<lower=0,upper=1> y[N];\\n          }\\n\\n          parameters {\\n            real<lower=0,upper=1> theta;\\n          }\\n\\n          model {\\n            theta ~ beta(1,1);  // uniform prior on interval 0,1\\n            y ~ bernoulli(theta);\\n          }\\n   \", @model_file=#<File:output/research-42/research-42.stan>>"
      ]
     },
     "execution_count": 7,
     "metadata": {},
     "output_type": "execute_result"
    }
   ],
   "source": [
    "model = RubyStan::Model.new(\"research-42\") do \n",
    "  # Write Stan code here\n",
    "  %Q{\n",
    "          data {\n",
    "            int<lower=0> N;\n",
    "            int<lower=0,upper=1> y[N];\n",
    "          }\n",
    "\n",
    "          parameters {\n",
    "            real<lower=0,upper=1> theta;\n",
    "          }\n",
    "\n",
    "          model {\n",
    "            theta ~ beta(1,1);  // uniform prior on interval 0,1\n",
    "            y ~ bernoulli(theta);\n",
    "          }\n",
    "   }   \n",
    "end"
   ]
  },
  {
   "cell_type": "code",
   "execution_count": 8,
   "metadata": {},
   "outputs": [
    {
     "data": {
      "text/plain": [
       "{:state=>:ok, :target=>\"../../output/research-42/research-42\", :working_directory=>\"/Users/robin/private_projects/ruby_stan\"}"
      ]
     },
     "execution_count": 8,
     "metadata": {},
     "output_type": "execute_result"
    }
   ],
   "source": [
    "model.compile"
   ]
  },
  {
   "cell_type": "code",
   "execution_count": 10,
   "metadata": {},
   "outputs": [
    {
     "data": {
      "text/plain": [
       "{\"N\"=>5, \"y\"=>[1, 0, 1, 1, 0]}"
      ]
     },
     "execution_count": 10,
     "metadata": {},
     "output_type": "execute_result"
    }
   ],
   "source": [
    "model.data = { \n",
    "  \"N\" => 5, # We toss a coin 5 times \n",
    "  \"y\" => [1, 0, 1, 1, 0] # toss results\n",
    "}"
   ]
  },
  {
   "cell_type": "code",
   "execution_count": 11,
   "metadata": {},
   "outputs": [
    {
     "name": "stdout",
     "output_type": "stream",
     "text": [
      "/Users/robin/private_projects/ruby_stan/output/research-42/research-42 sample data file=output/research-42/research-42.json\n"
     ]
    },
    {
     "data": {
      "text/plain": [
       "{:state=>:ok, :data=>{\"N\"=>5, \"y\"=>[1, 0, 1, 1, 0]}}"
      ]
     },
     "execution_count": 11,
     "metadata": {},
     "output_type": "execute_result"
    }
   ],
   "source": [
    "# Do the simulation magic\n",
    "model.fit"
   ]
  },
  {
   "cell_type": "code",
   "execution_count": 12,
   "metadata": {},
   "outputs": [
    {
     "name": "stdout",
     "output_type": "stream",
     "text": [
      "Inference for Stan model: research_42_model\n",
      "1 chains: each with iter=(1000); warmup=(0); thin=(1); 1000 iterations saved.\n",
      "\n",
      "Warmup took (0.0058) seconds, 0.0058 seconds total\n",
      "Sampling took (0.013) seconds, 0.013 seconds total\n",
      "\n",
      "                Mean     MCSE   StdDev    5%   50%   95%    N_Eff  N_Eff/s    R_hat\n",
      "lp__            -5.4  4.9e-02  8.7e-01  -7.0  -5.1  -4.8  3.2e+02  2.5e+04  1.0e+00\n",
      "accept_stat__   0.91  4.0e-03  1.3e-01  0.63  0.97   1.0  1.1e+03  8.8e+04  1.0e+00\n",
      "stepsize__       1.1      nan  4.4e-15   1.1   1.1   1.1      nan      nan      nan\n",
      "treedepth__      1.4  1.5e-02  4.8e-01   1.0   1.0   2.0  1.0e+03  8.1e+04  1.0e+00\n",
      "n_leapfrog__     2.3  3.5e-02  9.7e-01   1.0   3.0   3.0  7.7e+02  6.0e+04  1.0e+00\n",
      "divergent__     0.00      nan  0.0e+00  0.00  0.00  0.00      nan      nan      nan\n",
      "energy__         5.9  6.2e-02  1.1e+00   4.8   5.5   8.1  3.3e+02  2.6e+04  1.0e+00\n",
      "theta           0.57  1.1e-02  1.8e-01  0.25  0.58  0.86  2.6e+02  2.1e+04  1.0e+00\n",
      "\n",
      "Samples were drawn using hmc with nuts.\n",
      "For each parameter, N_Eff is a crude measure of effective sample size,\n",
      "and R_hat is the potential scale reduction factor on split chains (at \n",
      "convergence, R_hat=1).\n",
      "\n",
      "\n"
     ]
    }
   ],
   "source": [
    "puts model.show"
   ]
  },
  {
   "cell_type": "code",
   "execution_count": null,
   "metadata": {},
   "outputs": [],
   "source": []
  }
 ],
 "metadata": {
  "kernelspec": {
   "display_name": "Ruby 2.6.5",
   "language": "ruby",
   "name": "ruby"
  },
  "language_info": {
   "file_extension": ".rb",
   "mimetype": "application/x-ruby",
   "name": "ruby",
   "version": "2.6.5"
  }
 },
 "nbformat": 4,
 "nbformat_minor": 2
}
